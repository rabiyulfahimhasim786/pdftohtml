{
  "nbformat": 4,
  "nbformat_minor": 0,
  "metadata": {
    "colab": {
      "provenance": [],
      "include_colab_link": true
    },
    "kernelspec": {
      "name": "python3",
      "display_name": "Python 3"
    },
    "language_info": {
      "name": "python"
    }
  },
  "cells": [
    {
      "cell_type": "markdown",
      "metadata": {
        "id": "view-in-github",
        "colab_type": "text"
      },
      "source": [
        "<a href=\"https://colab.research.google.com/github/rabiyulfahimhasim786/pdftohtml/blob/main/PDF_to_HTML_using_pdfminer.ipynb\" target=\"_parent\"><img src=\"https://colab.research.google.com/assets/colab-badge.svg\" alt=\"Open In Colab\"/></a>"
      ]
    },
    {
      "cell_type": "code",
      "source": [
        "!pip install pdfminer.six"
      ],
      "metadata": {
        "colab": {
          "base_uri": "https://localhost:8080/"
        },
        "id": "a6WQYh43Iq7z",
        "outputId": "fc7970a4-c9aa-46b6-95e5-5828416c5b71"
      },
      "execution_count": null,
      "outputs": [
        {
          "output_type": "stream",
          "name": "stdout",
          "text": [
            "Looking in indexes: https://pypi.org/simple, https://us-python.pkg.dev/colab-wheels/public/simple/\n",
            "Collecting pdfminer.six\n",
            "  Downloading pdfminer.six-20221105-py3-none-any.whl (5.6 MB)\n",
            "\u001b[2K     \u001b[90m━━━━━━━━━━━━━━━━━━━━━━━━━━━━━━━━━━━━━━━━\u001b[0m \u001b[32m5.6/5.6 MB\u001b[0m \u001b[31m53.6 MB/s\u001b[0m eta \u001b[36m0:00:00\u001b[0m\n",
            "\u001b[?25hRequirement already satisfied: charset-normalizer>=2.0.0 in /usr/local/lib/python3.9/dist-packages (from pdfminer.six) (2.0.12)\n",
            "Requirement already satisfied: cryptography>=36.0.0 in /usr/local/lib/python3.9/dist-packages (from pdfminer.six) (40.0.1)\n",
            "Requirement already satisfied: cffi>=1.12 in /usr/local/lib/python3.9/dist-packages (from cryptography>=36.0.0->pdfminer.six) (1.15.1)\n",
            "Requirement already satisfied: pycparser in /usr/local/lib/python3.9/dist-packages (from cffi>=1.12->cryptography>=36.0.0->pdfminer.six) (2.21)\n",
            "Installing collected packages: pdfminer.six\n",
            "Successfully installed pdfminer.six-20221105\n"
          ]
        }
      ]
    },
    {
      "cell_type": "code",
      "execution_count": null,
      "metadata": {
        "id": "24MxXYJgIUat"
      },
      "outputs": [],
      "source": [
        "# Use `pip install pdfminer.six` for python\n",
        "\n",
        "from typing import Container\n",
        "from io import BytesIO\n",
        "from pdfminer.pdfinterp import PDFResourceManager, PDFPageInterpreter\n",
        "from pdfminer.converter import TextConverter, XMLConverter, HTMLConverter\n",
        "from pdfminer.layout import LAParams\n",
        "from pdfminer.pdfpage import PDFPage\n",
        "\n",
        "\n",
        "def convert_pdf(\n",
        "    path: str,\n",
        "    format: str = \"html\",\n",
        "    codec: str = \"utf-8\",\n",
        "    password: str = \"\",\n",
        "    maxpages: int = 0,\n",
        "    caching: bool = True,\n",
        "    pagenos: Container[int] = set(),\n",
        ") -> str:\n",
        "    \"\"\"Summary\n",
        "\n",
        "    Parameters\n",
        "    ----------\n",
        "    path : str\n",
        "        Path to the pdf file\n",
        "    format : str, optional\n",
        "        Format of output, must be one of: \"text\", \"html\", \"xml\".\n",
        "        By default, \"text\" format is used\n",
        "    codec : str, optional\n",
        "        Encoding. By default \"utf-8\" is used\n",
        "    password : str, optional\n",
        "        Password\n",
        "    maxpages : int, optional\n",
        "        Max number of pages to convert. By default is 0, i.e. reads all pages.\n",
        "    caching : bool, optional\n",
        "        Caching. By default is True\n",
        "    pagenos : Container[int], optional\n",
        "        Provide a list with numbers of pages to convert\n",
        "\n",
        "    Returns\n",
        "    -------\n",
        "    str\n",
        "        Converted pdf file\n",
        "    \"\"\"\n",
        "    rsrcmgr = PDFResourceManager()\n",
        "    retstr = BytesIO()\n",
        "    laparams = LAParams()\n",
        "    if format == \"text\":\n",
        "        device = TextConverter(rsrcmgr, retstr, codec=codec, laparams=laparams)\n",
        "    elif format == \"html\":\n",
        "        device = HTMLConverter(rsrcmgr, retstr, codec=codec, laparams=laparams)\n",
        "    elif format == \"xml\":\n",
        "        device = XMLConverter(rsrcmgr, retstr, codec=codec, laparams=laparams)\n",
        "    else:\n",
        "        raise ValueError(\"provide format, either text, html or xml!\")\n",
        "    fp = open(path, \"rb\")\n",
        "    interpreter = PDFPageInterpreter(rsrcmgr, device)\n",
        "    for page in PDFPage.get_pages(\n",
        "        fp,\n",
        "        pagenos,\n",
        "        maxpages=maxpages,\n",
        "        password=password,\n",
        "        caching=caching,\n",
        "        check_extractable=True,\n",
        "    ):\n",
        "        interpreter.process_page(page)\n",
        "    text = retstr.getvalue().decode()\n",
        "    fp.close()\n",
        "    device.close()\n",
        "    retstr.close()\n",
        "    # Opening the existing HTML file\n",
        "    Func = open(\"output.html\",\"w\")\n",
        "\n",
        "# Adding input data to the HTML file\n",
        "    Func.write(text)\n",
        "\n",
        "# Saving the data into the HTML file\n",
        "    Func.close()\n",
        "\n",
        "    return text\n",
        " "
      ]
    },
    {
      "cell_type": "code",
      "source": [
        "convert_pdf(\"sample.pdf\")\n"
      ],
      "metadata": {
        "colab": {
          "base_uri": "https://localhost:8080/",
          "height": 174
        },
        "id": "faTBP2y4I05b",
        "outputId": "0b69173b-ca58-4d67-f90d-ca44740af5ef"
      },
      "execution_count": null,
      "outputs": [
        {
          "output_type": "execute_result",
          "data": {
            "text/plain": [
              "'<html><head>\\n<meta http-equiv=\"Content-Type\" content=\"text/html; charset=utf-8\">\\n</head><body>\\n<span style=\"position:absolute; border: gray 1px solid; left:0px; top:50px; width:792px; height:612px;\"></span>\\n<div style=\"position:absolute; top:50px;\"><a name=\"1\">Page 1</a></div>\\n<div style=\"position:absolute; border: textbox 1px solid; writing-mode:lr-tb; left:102px; top:106px; width:168px; height:14px;\"><span style=\"font-family: ArialMT; font-size:14px\">Secret City Car Show 2023\\n<br></span></div><div style=\"position:absolute; border: textbox 1px solid; writing-mode:lr-tb; left:311px; top:106px; width:168px; height:14px;\"><span style=\"font-family: ArialMT; font-size:14px\">Secret City Car Show 2023\\n<br></span></div><div style=\"position:absolute; border: textbox 1px solid; writing-mode:lr-tb; left:520px; top:106px; width:168px; height:14px;\"><span style=\"font-family: ArialMT; font-size:14px\">Secret City Car Show 2023\\n<br></span></div><div style=\"position:absolute; border: textbox 1px solid; writing-mode:lr-tb; left:165px; top:131px; width:43px; height:14px;\"><span style=\"font-family: ArialMT; font-size:14px\">Top 20\\n<br></span></div><div style=\"position:absolute; border: textbox 1px solid; writing-mode:lr-tb; left:374px; top:131px; width:43px; height:14px;\"><span style=\"font-family: ArialMT; font-size:14px\">Top 20\\n<br></span></div><div style=\"position:absolute; border: textbox 1px solid; writing-mode:lr-tb; left:583px; top:131px; width:43px; height:14px;\"><span style=\"font-family: ArialMT; font-size:14px\">Top 20\\n<br></span></div><div style=\"position:absolute; border: textbox 1px solid; writing-mode:lr-tb; left:102px; top:155px; width:168px; height:14px;\"><span style=\"font-family: ArialMT; font-size:14px\">Secret City Car Show 2023\\n<br></span></div><div style=\"position:absolute; border: textbox 1px solid; writing-mode:lr-tb; left:311px; top:155px; width:168px; height:14px;\"><span style=\"font-family: ArialMT; font-size:14px\">Secret City Car Show 2023\\n<br></span></div><div style=\"position:absolute; border: textbox 1px solid; writing-mode:lr-tb; left:520px; top:155px; width:168px; height:14px;\"><span style=\"font-family: ArialMT; font-size:14px\">Secret City Car Show 2023\\n<br></span></div><div style=\"position:absolute; border: textbox 1px solid; writing-mode:lr-tb; left:165px; top:180px; width:43px; height:14px;\"><span style=\"font-family: ArialMT; font-size:14px\">Top 20\\n<br></span></div><div style=\"position:absolute; border: textbox 1px solid; writing-mode:lr-tb; left:374px; top:180px; width:43px; height:14px;\"><span style=\"font-family: ArialMT; font-size:14px\">Top 20\\n<br></span></div><div style=\"position:absolute; border: textbox 1px solid; writing-mode:lr-tb; left:583px; top:180px; width:43px; height:14px;\"><span style=\"font-family: ArialMT; font-size:14px\">Top 20\\n<br></span></div><div style=\"position:absolute; border: textbox 1px solid; writing-mode:lr-tb; left:102px; top:205px; width:168px; height:14px;\"><span style=\"font-family: ArialMT; font-size:14px\">Secret City Car Show 2023\\n<br></span></div><div style=\"position:absolute; border: textbox 1px solid; writing-mode:lr-tb; left:311px; top:205px; width:168px; height:14px;\"><span style=\"font-family: ArialMT; font-size:14px\">Secret City Car Show 2023\\n<br></span></div><div style=\"position:absolute; border: textbox 1px solid; writing-mode:lr-tb; left:520px; top:205px; width:168px; height:14px;\"><span style=\"font-family: ArialMT; font-size:14px\">Secret City Car Show 2023\\n<br></span></div><div style=\"position:absolute; border: textbox 1px solid; writing-mode:lr-tb; left:165px; top:230px; width:43px; height:14px;\"><span style=\"font-family: ArialMT; font-size:14px\">Top 20\\n<br></span></div><div style=\"position:absolute; border: textbox 1px solid; writing-mode:lr-tb; left:374px; top:230px; width:43px; height:14px;\"><span style=\"font-family: ArialMT; font-size:14px\">Top 20\\n<br></span></div><div style=\"position:absolute; border: textbox 1px solid; writing-mode:lr-tb; left:583px; top:230px; width:43px; height:14px;\"><span style=\"font-family: ArialMT; font-size:14px\">Top 20\\n<br></span></div><div style=\"position:absolute; border: textbox 1px solid; writing-mode:lr-tb; left:102px; top:254px; width:168px; height:14px;\"><span style=\"font-family: ArialMT; font-size:14px\">Secret City Car Show 2023\\n<br></span></div><div style=\"position:absolute; border: textbox 1px solid; writing-mode:lr-tb; left:311px; top:254px; width:168px; height:14px;\"><span style=\"font-family: ArialMT; font-size:14px\">Secret City Car Show 2023\\n<br></span></div><div style=\"position:absolute; border: textbox 1px solid; writing-mode:lr-tb; left:520px; top:254px; width:168px; height:14px;\"><span style=\"font-family: ArialMT; font-size:14px\">Secret City Car Show 2023\\n<br></span></div><div style=\"position:absolute; border: textbox 1px solid; writing-mode:lr-tb; left:165px; top:279px; width:43px; height:14px;\"><span style=\"font-family: ArialMT; font-size:14px\">Top 20\\n<br></span></div><div style=\"position:absolute; border: textbox 1px solid; writing-mode:lr-tb; left:374px; top:279px; width:43px; height:14px;\"><span style=\"font-family: ArialMT; font-size:14px\">Top 20\\n<br></span></div><div style=\"position:absolute; border: textbox 1px solid; writing-mode:lr-tb; left:583px; top:279px; width:43px; height:14px;\"><span style=\"font-family: ArialMT; font-size:14px\">Top 20\\n<br></span></div><div style=\"position:absolute; border: textbox 1px solid; writing-mode:lr-tb; left:102px; top:304px; width:168px; height:14px;\"><span style=\"font-family: ArialMT; font-size:14px\">Secret City Car Show 2023\\n<br></span></div><div style=\"position:absolute; border: textbox 1px solid; writing-mode:lr-tb; left:311px; top:304px; width:168px; height:14px;\"><span style=\"font-family: ArialMT; font-size:14px\">Secret City Car Show 2023\\n<br></span></div><div style=\"position:absolute; border: textbox 1px solid; writing-mode:lr-tb; left:520px; top:304px; width:168px; height:14px;\"><span style=\"font-family: ArialMT; font-size:14px\">Secret City Car Show 2023\\n<br></span></div><div style=\"position:absolute; border: textbox 1px solid; writing-mode:lr-tb; left:165px; top:328px; width:43px; height:14px;\"><span style=\"font-family: ArialMT; font-size:14px\">Top 20\\n<br></span></div><div style=\"position:absolute; border: textbox 1px solid; writing-mode:lr-tb; left:374px; top:328px; width:43px; height:14px;\"><span style=\"font-family: ArialMT; font-size:14px\">Top 20\\n<br></span></div><div style=\"position:absolute; border: textbox 1px solid; writing-mode:lr-tb; left:583px; top:328px; width:43px; height:14px;\"><span style=\"font-family: ArialMT; font-size:14px\">Top 20\\n<br></span></div><div style=\"position:absolute; border: textbox 1px solid; writing-mode:lr-tb; left:102px; top:353px; width:168px; height:14px;\"><span style=\"font-family: ArialMT; font-size:14px\">Secret City Car Show 2023\\n<br></span></div><div style=\"position:absolute; border: textbox 1px solid; writing-mode:lr-tb; left:311px; top:353px; width:168px; height:14px;\"><span style=\"font-family: ArialMT; font-size:14px\">Secret City Car Show 2023\\n<br></span></div><div style=\"position:absolute; border: textbox 1px solid; writing-mode:lr-tb; left:520px; top:353px; width:168px; height:14px;\"><span style=\"font-family: ArialMT; font-size:14px\">Secret City Car Show 2023\\n<br></span></div><div style=\"position:absolute; border: textbox 1px solid; writing-mode:lr-tb; left:165px; top:378px; width:43px; height:14px;\"><span style=\"font-family: ArialMT; font-size:14px\">Top 20\\n<br></span></div><div style=\"position:absolute; border: textbox 1px solid; writing-mode:lr-tb; left:374px; top:378px; width:43px; height:14px;\"><span style=\"font-family: ArialMT; font-size:14px\">Top 20\\n<br></span></div><div style=\"position:absolute; border: textbox 1px solid; writing-mode:lr-tb; left:583px; top:378px; width:43px; height:14px;\"><span style=\"font-family: ArialMT; font-size:14px\">Top 20\\n<br></span></div><div style=\"position:absolute; border: textbox 1px solid; writing-mode:lr-tb; left:102px; top:403px; width:168px; height:14px;\"><span style=\"font-family: ArialMT; font-size:14px\">Secret City Car Show 2023\\n<br></span></div><div style=\"position:absolute; border: textbox 1px solid; writing-mode:lr-tb; left:311px; top:403px; width:168px; height:14px;\"><span style=\"font-family: ArialMT; font-size:14px\">Secret City Car Show 2023\\n<br></span></div><div style=\"position:absolute; border: textbox 1px solid; writing-mode:lr-tb; left:165px; top:427px; width:43px; height:14px;\"><span style=\"font-family: ArialMT; font-size:14px\">Top 20\\n<br></span></div><div style=\"position:absolute; border: textbox 1px solid; writing-mode:lr-tb; left:374px; top:427px; width:43px; height:14px;\"><span style=\"font-family: ArialMT; font-size:14px\">Top 20\\n<br></span></div><span style=\"position:absolute; border: black 1px solid; left:78px; top:100px; width:6px; height:0px;\"></span>\\n<span style=\"position:absolute; border: black 1px solid; left:78px; top:149px; width:6px; height:0px;\"></span>\\n<span style=\"position:absolute; border: black 1px solid; left:287px; top:100px; width:6px; height:0px;\"></span>\\n<span style=\"position:absolute; border: black 1px solid; left:287px; top:149px; width:6px; height:0px;\"></span>\\n<span style=\"position:absolute; border: black 1px solid; left:497px; top:100px; width:6px; height:0px;\"></span>\\n<span style=\"position:absolute; border: black 1px solid; left:497px; top:149px; width:6px; height:0px;\"></span>\\n<span style=\"position:absolute; border: black 1px solid; left:706px; top:100px; width:6px; height:0px;\"></span>\\n<span style=\"position:absolute; border: black 1px solid; left:706px; top:149px; width:6px; height:0px;\"></span>\\n<span style=\"position:absolute; border: black 1px solid; left:78px; top:149px; width:6px; height:0px;\"></span>\\n<span style=\"position:absolute; border: black 1px solid; left:78px; top:198px; width:6px; height:0px;\"></span>\\n<span style=\"position:absolute; border: black 1px solid; left:287px; top:149px; width:6px; height:0px;\"></span>\\n<span style=\"position:absolute; border: black 1px solid; left:287px; top:198px; width:6px; height:0px;\"></span>\\n<span style=\"position:absolute; border: black 1px solid; left:497px; top:149px; width:6px; height:0px;\"></span>\\n<span style=\"position:absolute; border: black 1px solid; left:497px; top:198px; width:6px; height:0px;\"></span>\\n<span style=\"position:absolute; border: black 1px solid; left:706px; top:149px; width:6px; height:0px;\"></span>\\n<span style=\"position:absolute; border: black 1px solid; left:706px; top:198px; width:6px; height:0px;\"></span>\\n<span style=\"position:absolute; border: black 1px solid; left:78px; top:198px; width:6px; height:0px;\"></span>\\n<span style=\"position:absolute; border: black 1px solid; left:78px; top:248px; width:6px; height:0px;\"></span>\\n<span style=\"position:absolute; border: black 1px solid; left:287px; top:198px; width:6px; height:0px;\"></span>\\n<span style=\"position:absolute; border: black 1px solid; left:287px; top:248px; width:6px; height:0px;\"></span>\\n<span style=\"position:absolute; border: black 1px solid; left:497px; top:198px; width:6px; height:0px;\"></span>\\n<span style=\"position:absolute; border: black 1px solid; left:497px; top:248px; width:6px; height:0px;\"></span>\\n<span style=\"position:absolute; border: black 1px solid; left:706px; top:198px; width:6px; height:0px;\"></span>\\n<span style=\"position:absolute; border: black 1px solid; left:706px; top:248px; width:6px; height:0px;\"></span>\\n<span style=\"position:absolute; border: black 1px solid; left:78px; top:248px; width:6px; height:0px;\"></span>\\n<span style=\"position:absolute; border: black 1px solid; left:78px; top:297px; width:6px; height:0px;\"></span>\\n<span style=\"position:absolute; border: black 1px solid; left:287px; top:248px; width:6px; height:0px;\"></span>\\n<span style=\"position:absolute; border: black 1px solid; left:287px; top:297px; width:6px; height:0px;\"></span>\\n<span style=\"position:absolute; border: black 1px solid; left:497px; top:248px; width:6px; height:0px;\"></span>\\n<span style=\"position:absolute; border: black 1px solid; left:497px; top:297px; width:6px; height:0px;\"></span>\\n<span style=\"position:absolute; border: black 1px solid; left:706px; top:248px; width:6px; height:0px;\"></span>\\n<span style=\"position:absolute; border: black 1px solid; left:706px; top:297px; width:6px; height:0px;\"></span>\\n<span style=\"position:absolute; border: black 1px solid; left:78px; top:297px; width:6px; height:0px;\"></span>\\n<span style=\"position:absolute; border: black 1px solid; left:78px; top:347px; width:6px; height:0px;\"></span>\\n<span style=\"position:absolute; border: black 1px solid; left:287px; top:297px; width:6px; height:0px;\"></span>\\n<span style=\"position:absolute; border: black 1px solid; left:287px; top:347px; width:6px; height:0px;\"></span>\\n<span style=\"position:absolute; border: black 1px solid; left:497px; top:297px; width:6px; height:0px;\"></span>\\n<span style=\"position:absolute; border: black 1px solid; left:497px; top:347px; width:6px; height:0px;\"></span>\\n<span style=\"position:absolute; border: black 1px solid; left:706px; top:297px; width:6px; height:0px;\"></span>\\n<span style=\"position:absolute; border: black 1px solid; left:706px; top:347px; width:6px; height:0px;\"></span>\\n<span style=\"position:absolute; border: black 1px solid; left:78px; top:347px; width:6px; height:0px;\"></span>\\n<span style=\"position:absolute; border: black 1px solid; left:78px; top:396px; width:6px; height:0px;\"></span>\\n<span style=\"position:absolute; border: black 1px solid; left:287px; top:347px; width:6px; height:0px;\"></span>\\n<span style=\"position:absolute; border: black 1px solid; left:287px; top:396px; width:6px; height:0px;\"></span>\\n<span style=\"position:absolute; border: black 1px solid; left:497px; top:347px; width:6px; height:0px;\"></span>\\n<span style=\"position:absolute; border: black 1px solid; left:497px; top:396px; width:6px; height:0px;\"></span>\\n<span style=\"position:absolute; border: black 1px solid; left:706px; top:347px; width:6px; height:0px;\"></span>\\n<span style=\"position:absolute; border: black 1px solid; left:706px; top:396px; width:6px; height:0px;\"></span>\\n<span style=\"position:absolute; border: black 1px solid; left:78px; top:396px; width:6px; height:0px;\"></span>\\n<span style=\"position:absolute; border: black 1px solid; left:78px; top:446px; width:6px; height:0px;\"></span>\\n<span style=\"position:absolute; border: black 1px solid; left:287px; top:396px; width:6px; height:0px;\"></span>\\n<span style=\"position:absolute; border: black 1px solid; left:287px; top:446px; width:6px; height:0px;\"></span>\\n<span style=\"position:absolute; border: black 1px solid; left:497px; top:396px; width:6px; height:0px;\"></span>\\n<span style=\"position:absolute; border: black 1px solid; left:497px; top:446px; width:6px; height:0px;\"></span>\\n<span style=\"position:absolute; border: black 1px solid; left:706px; top:396px; width:6px; height:0px;\"></span>\\n<span style=\"position:absolute; border: black 1px solid; left:706px; top:446px; width:6px; height:0px;\"></span>\\n'"
            ],
            "application/vnd.google.colaboratory.intrinsic+json": {
              "type": "string"
            }
          },
          "metadata": {},
          "execution_count": 5
        }
      ]
    }
  ]
}